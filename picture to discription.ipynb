{
 "cells": [
  {
   "cell_type": "code",
   "execution_count": 1,
   "id": "75cb479e-c61e-43f8-a383-90a267a0a361",
   "metadata": {},
   "outputs": [
    {
     "name": "stdout",
     "output_type": "stream",
     "text": [
      "Generated Caption: a man with his arms crossed\n"
     ]
    }
   ],
   "source": [
    "from transformers import BlipProcessor, BlipForConditionalGeneration\n",
    "from PIL import Image\n",
    "import torch\n",
    "import os\n",
    "\n",
    "# Define image path\n",
    "image_path = r\"C:\\Users\\bugga shyam\\OneDrive\\Documents\\Desktop\\python\\python\\Shy.jpg\"\n",
    "\n",
    "# Check if the image exists\n",
    "if not os.path.exists(image_path):\n",
    "    raise FileNotFoundError(f\"Image not found at {image_path}\")\n",
    "\n",
    "try:\n",
    "    # Load processor and model\n",
    "    processor = BlipProcessor.from_pretrained(\"salesforce/blip-image-captioning-base\")\n",
    "    model = BlipForConditionalGeneration.from_pretrained(\"salesforce/blip-image-captioning-base\")\n",
    "\n",
    "    # Load and preprocess the image\n",
    "    image = Image.open(image_path).convert(\"RGB\")\n",
    "    image.show()  # Display the image\n",
    "\n",
    "    # Preprocess the image\n",
    "    inputs = processor(images=image, return_tensors=\"pt\")\n",
    "\n",
    "    # Generate caption\n",
    "    output = model.generate(**inputs)\n",
    "    caption = processor.decode(output[0], skip_special_tokens=True)\n",
    "\n",
    "    print(\"Generated Caption:\", caption)\n",
    "\n",
    "except Exception as e:\n",
    "    print(\"Error:\", str(e))\n"
   ]
  },
  {
   "cell_type": "code",
   "execution_count": null,
   "id": "3c3a2f8e-d192-4bdd-8061-18d0483a4aa1",
   "metadata": {},
   "outputs": [],
   "source": []
  }
 ],
 "metadata": {
  "kernelspec": {
   "display_name": "Python 3 (ipykernel)",
   "language": "python",
   "name": "python3"
  },
  "language_info": {
   "codemirror_mode": {
    "name": "ipython",
    "version": 3
   },
   "file_extension": ".py",
   "mimetype": "text/x-python",
   "name": "python",
   "nbconvert_exporter": "python",
   "pygments_lexer": "ipython3",
   "version": "3.12.7"
  }
 },
 "nbformat": 4,
 "nbformat_minor": 5
}
